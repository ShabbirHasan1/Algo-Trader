{
 "cells": [
  {
   "cell_type": "code",
   "execution_count": 1,
   "metadata": {},
   "outputs": [],
   "source": [
    "from broker_module import Broker\n",
    "from kiteconnect import KiteConnect\n",
    "from datetime import datetime\n",
    "import pandas as pd\n",
    "from algo_module import Algo_manager\n",
    "from time import perf_counter\n",
    "from time import sleep\n",
    "\n",
    "from ks_api_client import ks_api\n",
    "from datetime import timedelta\n",
    "\n",
    "from broker_module import Broker\n",
    "\n",
    "import logging\n",
    "\n",
    "# logger = logging.getLogger(__name__)\n",
    "# logger.setLevel(logging.INFO)\n",
    "# formatter = logging.Formatter('%(levelname)s|%(className)s->%(funcName)s|%(message)s')\n",
    "\n",
    "# timestamp_string = datetime.now().strftime(\"%Y-%m-%d %H_%M_%S\")\n",
    "# file_handler = logging.FileHandler(f'./{\"test logs\"}/team.log')\n",
    "# file_handler.setFormatter(formatter)\n",
    "\n",
    "# logger.addHandler(file_handler)\n",
    "\n",
    "# kotak_access_token = \"d2c0a033-86d3-3b66-9b94-7241b0078fef\"\n",
    "# kotak_user_id = \"HG11011990\"\n",
    "# kotak_consumer_secret = \"PGLsaajJLkpKLFXNO6pXrjCr_6Qa\"\n",
    "# kotak_consumer_key = \"ug1QtNucZF4WLSinsfGfQ0sgjoYa\"\n",
    "# kotak_password = \"KSSh@r3d\"\n",
    "# kotak_access_code = \"9179\"\n",
    "\n",
    "# broker = Broker(broker=\"zerodha\", kotak_consumer_key=kotak_consumer_key, kotak_access_token=kotak_access_token,\n",
    "#                 kotak_consumer_secret=kotak_consumer_secret,kotak_user_id=kotak_user_id,\n",
    "#                 kotak_access_code=kotak_access_code, kotak_user_password=kotak_password, logger=logger)\n",
    "# expiry_datetime = broker.get_next_expiry_datetime()\n",
    "# print(expiry_datetime)\n",
    "# broker.get_pnl() \n",
    "\n",
    "\n",
    "# start_time = datetime(2020,1,1,8,50)\n",
    "# end_time = datetime(2020,1,1,9,10)\n",
    "\n",
    "# algo_manager = Algo_manager(broker_name='zerodha',\n",
    "#                     underlying_name='NIFTY',\n",
    "#                     kite_api_key=\"5ytarhiur9g1jebq\",\n",
    "#                     kite_access_token=\"O7yx7U0oKYJSyx1rihhBhVF8Axb5umAh\",\n",
    "#                     paper_trade=True, log_folder=\"logs\",\n",
    "#                     begin_time=start_time,\n",
    "#                     close_time=end_time)\n",
    "\n",
    "# start_time = datetime(2020,1,1,8,20).time()\n",
    "# close_time = datetime(2020,1,1,9,7).time()\n",
    "# end_time = datetime(2020,1,1,9,10,0).time()\n",
    "\n",
    "# algo_manager = Algo_manager(broker_name='kotak',\n",
    "#                     underlying_name='NIFTY',\n",
    "#                     kotak_consumer_key=\"ug1QtNucZF4WLSinsfGfQ0sgjoYa\",\n",
    "#                     kotak_access_token=\"d2c0a033-86d3-3b66-9b94-7241b0078fef\",\n",
    "#                     kotak_consumer_secret=\"PGLsaajJLkpKLFXNO6pXrjCr_6Qa\",\n",
    "#                     kotak_user_id=\"HG11011990\",\n",
    "#                     kotak_access_code=\"9407\",\n",
    "#                     kotak_user_password=\"KSSh@r3d\",\n",
    "#                     paper_trade=False, log_folder=\"logs\",\n",
    "#                     begin_time=start_time,\n",
    "#                     close_time=close_time)"
   ]
  },
  {
   "cell_type": "code",
   "execution_count": 11,
   "metadata": {},
   "outputs": [
    {
     "name": "stdout",
     "output_type": "stream",
     "text": [
      "Done\n"
     ]
    }
   ],
   "source": [
    "# Kite Object\n",
    "broker_api_key=\"5ytarhiur9g1jebq\"\n",
    "broker_access_token=\"FuG7lOaa75BIFjO8kGtZDTCV99B6msXG\"\n",
    "\n",
    "\n",
    "kite = KiteConnect(api_key=broker_api_key)\n",
    "kite.set_access_token(broker_access_token)\n",
    "print(\"Done\")"
   ]
  },
  {
   "cell_type": "code",
   "execution_count": 54,
   "metadata": {},
   "outputs": [
    {
     "name": "stdout",
     "output_type": "stream",
     "text": [
      "{'advancedChart': {'host': 'https://kotaksecurities.com/chartiqtrade/', 'port': 443}, 'apiToken': {'redirect': {'host': 'https://mksapi.kotaksecurities.com', 'port': 443}, 'sessionId': '54627984#0-112122'}, 'broadcast': {'host': 'https://dtstream.kotaksecurities.com/', 'port': 443}, 'clientCode': 'ZC1BK', 'clientName': 'HITESH  GULATI', 'dormantType': '-', 'emailId': '', 'enabledExchangeSegments': {'CASH': [{'exchange': 'NSE', 'status': 'ACTIVE'}, {'exchange': 'BSE', 'status': 'ACTIVE'}], 'CDS': [{'exchange': 'NSE', 'status': 'ACTIVE'}, {'exchange': 'MCX', 'status': 'NOACCESS'}], 'COMMODITY': [{'exchange': 'MCX', 'status': 'ACTIVE'}], 'FNO': [{'exchange': 'NSE', 'status': 'ACTIVE'}, {'exchange': 'BSE', 'status': 'INACTIVE'}]}, 'enabledProducts': ['NORMAL', 'SUPERMULTIPLE', 'SUPERMULTIPLEOPTION', 'MTF', 'MIS'], 'enabledSegments': ['CASH', 'FO', 'CDS'], 'getLTPURL': 'https://mksapi.kotaksecurities.com/newserviceapi/stockinfo/getLTPData?', 'getLtp': {'host': 'https://mksapi.kotaksecurities.com', 'port': 443}, 'isNRI': 'N', 'loginTime': '1/9/2022 11:56:19 PM', 'marginProduct': {'isEnabled': 'N'}, 'marketData': {'host': 'https://mksapi.kotaksecurities.com', 'port': 443}, 'nomineeFlag': 0, 'phoneNo': '', 'poaFlag': 'Y', 'redirect': {'host': 'https://tradeapi.kotaksecurities.com/apim', 'port': 443}, 'search': {'host': 'https://mksapi.kotaksecurities.com/', 'port': 443}, 'searchURL': 'https://mksapi.kotaksecurities.com/newserviceapi/securities/search/q/', 'service': {'host': 'https://tradeapi.kotaksecurities.com/apim', 'port': 443}, 'sessionToken': 'D605DA9A178D8C0E5756F03E617A4D54B3883DC74F0D', 'stwtFlag': 'Y', 'userId': 'HG11011990', 'weblink': {'host': 'https://mtrade.kotaksecurities.com/', 'port': 443}}\n"
     ]
    }
   ],
   "source": [
    "# Kotak Object\n",
    "\n",
    "ks_access_token = \"d2c0a033-86d3-3b66-9b94-7241b0078fef\"\n",
    "ks_user_id = \"HG11011990\"\n",
    "ks_consumer_secret = \"PGLsaajJLkpKLFXNO6pXrjCr_6Qa\"\n",
    "ks_consumer_key = \"ug1QtNucZF4WLSinsfGfQ0sgjoYa\"\n",
    "ks_password = \"KSSh@r3d\"\n",
    "ks_access_code = \"2825\"\n",
    "\n",
    "client = ks_api.KSTradeApi(access_token = ks_access_token, userid = ks_user_id, \\\n",
    "                consumer_key = ks_consumer_key, ip = \"127.0.0.1\", app_id = \"\")\n",
    "client.login(password=ks_password)\n",
    "a = client.session_2fa(access_code = ks_access_code)\n",
    "print(a)\n",
    "options_url = \"https://preferred.kotaksecurities.com/security/production/TradeApiInstruments_FNO_07_01_2022.txt\"\n",
    "odf = pd.read_csv(options_url, sep='|')\n",
    "odf = odf[(odf['optionType'] != 'XX') & (odf['optionType'].notnull() )] \\\n",
    "    [['instrumentToken','instrumentName','strike','expiry','optionType']].drop_duplicates()\n",
    "odf['expiry_datetime'] = pd.to_datetime(odf['expiry'], format='%d%b%y') + timedelta (hours=15, minutes =30)\n",
    "\n",
    "equity_url = \"https://preferred.kotaksecurities.com/security/production/TradeApiInstruments_Cash_07_01_2022.txt\"\n",
    "edf = pd.read_csv(equity_url, sep='|')\n",
    "edf = edf[['instrumentToken','instrumentName']].drop_duplicates()\n",
    "\n",
    "kotak_instrument_book = odf.append(edf, ignore_index=True)"
   ]
  },
  {
   "cell_type": "code",
   "execution_count": 4,
   "metadata": {},
   "outputs": [
    {
     "ename": "NameError",
     "evalue": "name 'expiry_datetime' is not defined",
     "output_type": "error",
     "traceback": [
      "\u001b[0;31m---------------------------------------------------------------------------\u001b[0m",
      "\u001b[0;31mNameError\u001b[0m                                 Traceback (most recent call last)",
      "\u001b[0;32m<ipython-input-4-e041986740fe>\u001b[0m in \u001b[0;36m<module>\u001b[0;34m\u001b[0m\n\u001b[1;32m      3\u001b[0m                         \u001b[0;34m'call_put'\u001b[0m\u001b[0;34m:\u001b[0m\u001b[0;34m[\u001b[0m\u001b[0;34m'PE'\u001b[0m\u001b[0;34m,\u001b[0m\u001b[0;34m'PE'\u001b[0m\u001b[0;34m,\u001b[0m\u001b[0;34m'CE'\u001b[0m\u001b[0;34m]\u001b[0m\u001b[0;34m,\u001b[0m\u001b[0;34m\u001b[0m\u001b[0;34m\u001b[0m\u001b[0m\n\u001b[1;32m      4\u001b[0m                         \u001b[0;34m'strike'\u001b[0m\u001b[0;34m:\u001b[0m\u001b[0;34m[\u001b[0m\u001b[0;36m15_000\u001b[0m\u001b[0;34m,\u001b[0m \u001b[0;36m15_100\u001b[0m\u001b[0;34m,\u001b[0m\u001b[0;36m18_000\u001b[0m\u001b[0;34m]\u001b[0m\u001b[0;34m,\u001b[0m\u001b[0;34m\u001b[0m\u001b[0;34m\u001b[0m\u001b[0m\n\u001b[0;32m----> 5\u001b[0;31m                         'expiry_datetime':[expiry_datetime,expiry_datetime,expiry_datetime]})\n\u001b[0m\u001b[1;32m      6\u001b[0m \u001b[0;31m# broker.get_multiple_fno_instrument_id(fno_df=fno_df)\u001b[0m\u001b[0;34m\u001b[0m\u001b[0;34m\u001b[0m\u001b[0;34m\u001b[0m\u001b[0m\n\u001b[1;32m      7\u001b[0m \u001b[0;34m\u001b[0m\u001b[0m\n",
      "\u001b[0;31mNameError\u001b[0m: name 'expiry_datetime' is not defined"
     ]
    }
   ],
   "source": [
    "# Prepare FnO df\n",
    "fno_df = pd.DataFrame({'underlying':['NIFTY','NIFTY','NIFTY'],\n",
    "                        'call_put':['PE','PE','CE'],\n",
    "                        'strike':[15_000, 15_100,18_000],\n",
    "                        'expiry_datetime':[expiry_datetime,expiry_datetime,expiry_datetime]})\n",
    "# broker.get_multiple_fno_instrument_id(fno_df=fno_df)\n",
    "\n",
    "# fno_df['instrument_id']=broker.get_multiple_fno_instrument_id(fno_df=fno_df)\n",
    "\n",
    "# fno_df['ltp'] = broker.get_multiple_ltp(instrument_df=fno_df,exchange='NFO')\n",
    "\n",
    "\n",
    "fno_df"
   ]
  },
  {
   "cell_type": "code",
   "execution_count": 4,
   "metadata": {},
   "outputs": [
    {
     "name": "stdout",
     "output_type": "stream",
     "text": [
      "60.01679320799997 276 276\n",
      "60.12325049999998 275 551\n"
     ]
    }
   ],
   "source": [
    "total_count = 0\n",
    "last_total_count = 0\n",
    "t0_reset = True\n",
    "stop_triggered = False\n",
    "start_time = datetime(2020,1,1,0,34,0).time()\n",
    "end_time = datetime(2020,1,1,0,36,1).time()\n",
    "while datetime.now().time() <= end_time:\n",
    "    if datetime.now().time() >= start_time:\n",
    "        if t0_reset:\n",
    "            t0 = perf_counter()\n",
    "            stop_triggered = False\n",
    "            t0_reset = False\n",
    "        try:\n",
    "            kite.positions()\n",
    "            total_count += 1\n",
    "        except:\n",
    "            if not stop_triggered:\n",
    "                print(perf_counter()-t0,total_count-last_total_count,total_count)\n",
    "                last_total_count = total_count\n",
    "                stop_triggered = True\n",
    "        if (perf_counter() - t0 ) > 60:\n",
    "            t0_reset = True \n",
    "            if not stop_triggered:\n",
    "                print(perf_counter()-t0,total_count-last_total_count,total_count)\n",
    "                last_total_count = total_count\n",
    "            \n",
    "t1 = perf_counter()"
   ]
  },
  {
   "cell_type": "code",
   "execution_count": 22,
   "metadata": {},
   "outputs": [
    {
     "data": {
      "text/plain": [
       "0"
      ]
     },
     "execution_count": 22,
     "metadata": {},
     "output_type": "execute_result"
    }
   ],
   "source": [
    "i = 'NSE:IDEA'\n",
    "a = kite.quote('NSE:IDEA')[i]['depth']['buy'][0]['price']\n",
    "a"
   ]
  },
  {
   "cell_type": "code",
   "execution_count": 24,
   "metadata": {},
   "outputs": [
    {
     "data": {
      "text/html": [
       "<div>\n",
       "<style scoped>\n",
       "    .dataframe tbody tr th:only-of-type {\n",
       "        vertical-align: middle;\n",
       "    }\n",
       "\n",
       "    .dataframe tbody tr th {\n",
       "        vertical-align: top;\n",
       "    }\n",
       "\n",
       "    .dataframe thead th {\n",
       "        text-align: right;\n",
       "    }\n",
       "</style>\n",
       "<table border=\"1\" class=\"dataframe\">\n",
       "  <thead>\n",
       "    <tr style=\"text-align: right;\">\n",
       "      <th></th>\n",
       "      <th>oid</th>\n",
       "      <th>id</th>\n",
       "      <th>eq</th>\n",
       "      <th>price</th>\n",
       "      <th>ltp</th>\n",
       "    </tr>\n",
       "  </thead>\n",
       "  <tbody>\n",
       "    <tr>\n",
       "      <th>0</th>\n",
       "      <td>101</td>\n",
       "      <td>AAA</td>\n",
       "      <td>100</td>\n",
       "      <td>20</td>\n",
       "      <td>22</td>\n",
       "    </tr>\n",
       "    <tr>\n",
       "      <th>1</th>\n",
       "      <td>102</td>\n",
       "      <td>BBB</td>\n",
       "      <td>50</td>\n",
       "      <td>60</td>\n",
       "      <td>55</td>\n",
       "    </tr>\n",
       "    <tr>\n",
       "      <th>2</th>\n",
       "      <td>103</td>\n",
       "      <td>AAA</td>\n",
       "      <td>-50</td>\n",
       "      <td>23</td>\n",
       "      <td>22</td>\n",
       "    </tr>\n",
       "    <tr>\n",
       "      <th>3</th>\n",
       "      <td>104</td>\n",
       "      <td>BBB</td>\n",
       "      <td>-50</td>\n",
       "      <td>57</td>\n",
       "      <td>55</td>\n",
       "    </tr>\n",
       "    <tr>\n",
       "      <th>4</th>\n",
       "      <td>105</td>\n",
       "      <td>CCC</td>\n",
       "      <td>-100</td>\n",
       "      <td>200</td>\n",
       "      <td>210</td>\n",
       "    </tr>\n",
       "  </tbody>\n",
       "</table>\n",
       "</div>"
      ],
      "text/plain": [
       "   oid   id   eq  price  ltp\n",
       "0  101  AAA  100     20   22\n",
       "1  102  BBB   50     60   55\n",
       "2  103  AAA  -50     23   22\n",
       "3  104  BBB  -50     57   55\n",
       "4  105  CCC -100    200  210"
      ]
     },
     "execution_count": 24,
     "metadata": {},
     "output_type": "execute_result"
    }
   ],
   "source": [
    "pos = {'oid':[101,102,103,104,105],\n",
    "        'id':['AAA','BBB','AAA','BBB','CCC'],\n",
    "        'eq':[100,50,-50,-50,-100],\n",
    "        'price':[20,60,23,57,200],\n",
    "        'ltp':[22,55,22,55,210]}\n",
    "pdf = pd.DataFrame(pos)\n",
    "pdf"
   ]
  },
  {
   "cell_type": "code",
   "execution_count": 25,
   "metadata": {},
   "outputs": [
    {
     "data": {
      "text/html": [
       "<div>\n",
       "<style scoped>\n",
       "    .dataframe tbody tr th:only-of-type {\n",
       "        vertical-align: middle;\n",
       "    }\n",
       "\n",
       "    .dataframe tbody tr th {\n",
       "        vertical-align: top;\n",
       "    }\n",
       "\n",
       "    .dataframe thead th {\n",
       "        text-align: right;\n",
       "    }\n",
       "</style>\n",
       "<table border=\"1\" class=\"dataframe\">\n",
       "  <thead>\n",
       "    <tr style=\"text-align: right;\">\n",
       "      <th></th>\n",
       "      <th>oid</th>\n",
       "      <th>id</th>\n",
       "      <th>eq</th>\n",
       "      <th>price</th>\n",
       "      <th>ltp</th>\n",
       "      <th>price_change</th>\n",
       "      <th>pnl</th>\n",
       "    </tr>\n",
       "  </thead>\n",
       "  <tbody>\n",
       "    <tr>\n",
       "      <th>0</th>\n",
       "      <td>101</td>\n",
       "      <td>AAA</td>\n",
       "      <td>100</td>\n",
       "      <td>20</td>\n",
       "      <td>22</td>\n",
       "      <td>2</td>\n",
       "      <td>200</td>\n",
       "    </tr>\n",
       "    <tr>\n",
       "      <th>1</th>\n",
       "      <td>102</td>\n",
       "      <td>BBB</td>\n",
       "      <td>50</td>\n",
       "      <td>60</td>\n",
       "      <td>55</td>\n",
       "      <td>-5</td>\n",
       "      <td>-250</td>\n",
       "    </tr>\n",
       "    <tr>\n",
       "      <th>2</th>\n",
       "      <td>103</td>\n",
       "      <td>AAA</td>\n",
       "      <td>-50</td>\n",
       "      <td>23</td>\n",
       "      <td>22</td>\n",
       "      <td>-1</td>\n",
       "      <td>50</td>\n",
       "    </tr>\n",
       "    <tr>\n",
       "      <th>3</th>\n",
       "      <td>104</td>\n",
       "      <td>BBB</td>\n",
       "      <td>-50</td>\n",
       "      <td>57</td>\n",
       "      <td>55</td>\n",
       "      <td>-2</td>\n",
       "      <td>100</td>\n",
       "    </tr>\n",
       "    <tr>\n",
       "      <th>4</th>\n",
       "      <td>105</td>\n",
       "      <td>CCC</td>\n",
       "      <td>-100</td>\n",
       "      <td>200</td>\n",
       "      <td>210</td>\n",
       "      <td>10</td>\n",
       "      <td>-1000</td>\n",
       "    </tr>\n",
       "  </tbody>\n",
       "</table>\n",
       "</div>"
      ],
      "text/plain": [
       "   oid   id   eq  price  ltp  price_change   pnl\n",
       "0  101  AAA  100     20   22             2   200\n",
       "1  102  BBB   50     60   55            -5  -250\n",
       "2  103  AAA  -50     23   22            -1    50\n",
       "3  104  BBB  -50     57   55            -2   100\n",
       "4  105  CCC -100    200  210            10 -1000"
      ]
     },
     "execution_count": 25,
     "metadata": {},
     "output_type": "execute_result"
    }
   ],
   "source": [
    "pdf['price_change'] = pdf['ltp'] - pdf['price']\n",
    "pdf['pnl'] = pdf['price_change'] * pdf['eq']\n",
    "pdf"
   ]
  },
  {
   "cell_type": "code",
   "execution_count": 26,
   "metadata": {},
   "outputs": [
    {
     "data": {
      "text/plain": [
       "-900"
      ]
     },
     "execution_count": 26,
     "metadata": {},
     "output_type": "execute_result"
    }
   ],
   "source": [
    "pdf['pnl'].sum()"
   ]
  },
  {
   "cell_type": "code",
   "execution_count": 43,
   "metadata": {},
   "outputs": [
    {
     "data": {
      "text/html": [
       "<div>\n",
       "<style scoped>\n",
       "    .dataframe tbody tr th:only-of-type {\n",
       "        vertical-align: middle;\n",
       "    }\n",
       "\n",
       "    .dataframe tbody tr th {\n",
       "        vertical-align: top;\n",
       "    }\n",
       "\n",
       "    .dataframe thead th {\n",
       "        text-align: right;\n",
       "    }\n",
       "</style>\n",
       "<table border=\"1\" class=\"dataframe\">\n",
       "  <thead>\n",
       "    <tr style=\"text-align: right;\">\n",
       "      <th></th>\n",
       "      <th>id</th>\n",
       "      <th>ltp</th>\n",
       "      <th>eq</th>\n",
       "      <th>pnl</th>\n",
       "      <th>price</th>\n",
       "      <th>q</th>\n",
       "      <th>m</th>\n",
       "      <th>bs</th>\n",
       "    </tr>\n",
       "  </thead>\n",
       "  <tbody>\n",
       "    <tr>\n",
       "      <th>0</th>\n",
       "      <td>AAA</td>\n",
       "      <td>22</td>\n",
       "      <td>50</td>\n",
       "      <td>250</td>\n",
       "      <td>17.0</td>\n",
       "      <td>50</td>\n",
       "      <td>1.0</td>\n",
       "      <td>buy</td>\n",
       "    </tr>\n",
       "    <tr>\n",
       "      <th>2</th>\n",
       "      <td>CCC</td>\n",
       "      <td>210</td>\n",
       "      <td>-100</td>\n",
       "      <td>-1000</td>\n",
       "      <td>200.0</td>\n",
       "      <td>100</td>\n",
       "      <td>-1.0</td>\n",
       "      <td>sell</td>\n",
       "    </tr>\n",
       "  </tbody>\n",
       "</table>\n",
       "</div>"
      ],
      "text/plain": [
       "    id  ltp   eq   pnl  price    q    m    bs\n",
       "0  AAA   22   50   250   17.0   50  1.0   buy\n",
       "2  CCC  210 -100 -1000  200.0  100 -1.0  sell"
      ]
     },
     "execution_count": 43,
     "metadata": {},
     "output_type": "execute_result"
    }
   ],
   "source": [
    "c = pdf[['id','eq','ltp','pnl']].groupby(['id','ltp']).sum().reset_index()\n",
    "r = c[c['eq']==0]['pnl'].sum()\n",
    "c = c[c['eq']!=0]\n",
    "c['price'] = c['ltp'] - c['pnl'] / c['eq']\n",
    "c['q'] = c['eq'].abs()\n",
    "c['m'] = c['eq'] / c['q']\n",
    "buy_sell_multiplier_map = {-1:'sell',1:'buy'}\n",
    "c['bs'] = c['m'].map(buy_sell_multiplier_map)\n",
    "c"
   ]
  },
  {
   "cell_type": "code",
   "execution_count": 38,
   "metadata": {},
   "outputs": [
    {
     "data": {
      "text/html": [
       "<div>\n",
       "<style scoped>\n",
       "    .dataframe tbody tr th:only-of-type {\n",
       "        vertical-align: middle;\n",
       "    }\n",
       "\n",
       "    .dataframe tbody tr th {\n",
       "        vertical-align: top;\n",
       "    }\n",
       "\n",
       "    .dataframe thead th {\n",
       "        text-align: right;\n",
       "    }\n",
       "</style>\n",
       "<table border=\"1\" class=\"dataframe\">\n",
       "  <thead>\n",
       "    <tr style=\"text-align: right;\">\n",
       "      <th></th>\n",
       "      <th>id</th>\n",
       "      <th>ltp</th>\n",
       "      <th>eq</th>\n",
       "      <th>pnl</th>\n",
       "      <th>price</th>\n",
       "    </tr>\n",
       "  </thead>\n",
       "  <tbody>\n",
       "    <tr>\n",
       "      <th>0</th>\n",
       "      <td>AAA</td>\n",
       "      <td>22</td>\n",
       "      <td>50</td>\n",
       "      <td>250</td>\n",
       "      <td>17.0</td>\n",
       "    </tr>\n",
       "    <tr>\n",
       "      <th>2</th>\n",
       "      <td>CCC</td>\n",
       "      <td>210</td>\n",
       "      <td>-100</td>\n",
       "      <td>-1000</td>\n",
       "      <td>200.0</td>\n",
       "    </tr>\n",
       "  </tbody>\n",
       "</table>\n",
       "</div>"
      ],
      "text/plain": [
       "    id  ltp   eq   pnl  price\n",
       "0  AAA   22   50   250   17.0\n",
       "2  CCC  210 -100 -1000  200.0"
      ]
     },
     "execution_count": 38,
     "metadata": {},
     "output_type": "execute_result"
    }
   ],
   "source": [
    "\n",
    "c"
   ]
  },
  {
   "cell_type": "code",
   "execution_count": 40,
   "metadata": {},
   "outputs": [
    {
     "data": {
      "text/plain": [
       "0     50\n",
       "2    100\n",
       "Name: eq, dtype: int64"
      ]
     },
     "execution_count": 40,
     "metadata": {},
     "output_type": "execute_result"
    }
   ],
   "source": [
    "c['q'] = c['eq'].abs()"
   ]
  },
  {
   "cell_type": "code",
   "execution_count": 23,
   "metadata": {},
   "outputs": [
    {
     "name": "stdout",
     "output_type": "stream",
     "text": [
      "2022-01-13 00:35:04.449481\n",
      "2022-01-13 00:35:00\n"
     ]
    }
   ],
   "source": [
    "def ceil_dt(dt, delta):\n",
    "    return dt - (dt - datetime.min) % delta\n",
    "\n",
    "now = datetime.now()\n",
    "print(now)    \n",
    "print(ceil_dt(now, timedelta(minutes=5)))"
   ]
  },
  {
   "cell_type": "code",
   "execution_count": 10,
   "metadata": {},
   "outputs": [
    {
     "data": {
      "text/plain": [
       "datetime.datetime(2022, 1, 13, 0, 28, 50, 485190)"
      ]
     },
     "execution_count": 10,
     "metadata": {},
     "output_type": "execute_result"
    }
   ],
   "source": [
    "dt = now\n",
    "delta = timedelta(minutes=5)\n",
    "dt"
   ]
  },
  {
   "cell_type": "code",
   "execution_count": 11,
   "metadata": {},
   "outputs": [
    {
     "data": {
      "text/plain": [
       "datetime.timedelta(seconds=69, microseconds=514810)"
      ]
     },
     "execution_count": 11,
     "metadata": {},
     "output_type": "execute_result"
    }
   ],
   "source": [
    "(datetime.min - dt) % delta"
   ]
  },
  {
   "cell_type": "code",
   "execution_count": null,
   "metadata": {},
   "outputs": [],
   "source": []
  }
 ],
 "metadata": {
  "interpreter": {
   "hash": "417062eb5271b9532323f86b1ee82836bc5c8b41b6bc2609f63d2a1122b87f38"
  },
  "kernelspec": {
   "display_name": "Python 3.8.5 64-bit ('base': conda)",
   "language": "python",
   "name": "python3"
  },
  "language_info": {
   "codemirror_mode": {
    "name": "ipython",
    "version": 3
   },
   "file_extension": ".py",
   "mimetype": "text/x-python",
   "name": "python",
   "nbconvert_exporter": "python",
   "pygments_lexer": "ipython3",
   "version": "3.8.5"
  },
  "orig_nbformat": 4
 },
 "nbformat": 4,
 "nbformat_minor": 2
}
