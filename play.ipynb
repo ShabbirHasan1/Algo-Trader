{
 "cells": [
  {
   "cell_type": "code",
   "execution_count": 1,
   "metadata": {},
   "outputs": [],
   "source": [
    "import pandas as pd\n",
    "import numpy as np\n",
    "from time import perf_counter, perf_counter_ns\n",
    "from time import sleep\n",
    "from datetime import datetime as dt\n",
    "from datetime import timedelta\n",
    "import datetime\n",
    "# import datetime\n",
    "import random\n",
    "from py_vollib.black_scholes.implied_volatility import implied_volatility as bs_iv\n",
    "from py_vollib.black_scholes.greeks import analytical as greeks\n",
    "import time\n",
    "import ks_api_client\n",
    "from kiteconnect import KiteConnect\n",
    "from kiteconnect import KiteTicker"
   ]
  },
  {
   "cell_type": "code",
   "execution_count": 9,
   "metadata": {},
   "outputs": [],
   "source": [
    "#Slice data\n",
    "all_df = pd.read_csv(\"data_df/Data 2022-01-20 09_29_04 team.csv\")\n",
    "all_df['current_datetime'] = pd.to_datetime(all_df['current_datetime'])\n",
    "all_df['expiry_datetime'] = pd.to_datetime(all_df['expiry_datetime'])\n",
    "# all_df.rename(columns={'candle_5_0_close_last':'candle_5_0_close',\n",
    "#                         'candle_5_0_open_last':'candle_5_0_open',\n",
    "#                         'candle_5_5_close_last':'candle_5_5_close',\n",
    "#                         'candle_5_5_open_last':'candle_5_0_open'},\n",
    "#                         inplace=True)\n",
    "\n",
    "from_time = datetime(2022,1,20,10,44,12)\n",
    "till_time = datetime(2022,1,20,15,50,1)\n",
    "\n",
    "slice = all_df[(all_df['current_datetime']>=from_time) &\\\n",
    "   (all_df['current_datetime']<=till_time)].head(3)\n",
    "\n",
    "slice"
   ]
  },
  {
   "cell_type": "code",
   "execution_count": 1,
   "metadata": {},
   "outputs": [
    {
     "name": "stdout",
     "output_type": "stream",
     "text": [
      "<class 'list'>\n",
      "464\n"
     ]
    }
   ],
   "source": [
    "import pandas as pd\n",
    "import numpy as np\n",
    "from time import perf_counter, perf_counter_ns\n",
    "from time import sleep\n",
    "from datetime import datetime as dt\n",
    "from datetime import timedelta\n",
    "import datetime\n",
    "# import datetime\n",
    "import random\n",
    "from py_vollib.black_scholes.implied_volatility import implied_volatility as bs_iv\n",
    "from py_vollib.black_scholes.greeks import analytical as greeks\n",
    "import time\n",
    "import ks_api_client\n",
    "from kiteconnect import KiteConnect\n",
    "from kiteconnect import KiteTicker\n",
    "\n",
    "tokens = []\n",
    "def set_kite (kite_api_key=None, kite_access_token=None):\n",
    "\n",
    "    kite = KiteConnect(api_key=kite_api_key)\n",
    "    kite.set_access_token(kite_access_token)\n",
    "    kws = KiteTicker(kite_api_key,kite_access_token)\n",
    "    return kite, kws\n",
    "\n",
    "\n",
    "def get_instruments_book (kite):\n",
    "    nse = pd.DataFrame(kite.instruments(\"NSE\"))\n",
    "    nfo = pd.DataFrame(kite.instruments(\"NFO\"))\n",
    "    kite_instruments_book = nfo.append(nse)\n",
    "    kite_instruments_book['expiry'] =  pd.to_datetime(kite_instruments_book['expiry'], \n",
    "                                            format='%Y-%m-%d') \n",
    "    kite_instruments_book['expiry_datetime'] = kite_instruments_book['expiry'] + \\\n",
    "                                        timedelta (hours=15, minutes =30)\n",
    "    return kite_instruments_book\n",
    "\n",
    "\n",
    "def tokenLookup(instrument_df,symbol_list):\n",
    "    \"\"\"Looks up instrument token for a given script from instrument dump\"\"\"\n",
    "    token_list = []\n",
    "    for symbol in symbol_list:\n",
    "        token_list.append(int(instrument_df[instrument_df.tradingsymbol==symbol].instrument_token.values[0]))\n",
    "    return token_list\n",
    "\n",
    "\n",
    "def get_fno_instrument_id (instruments_df,strike, underlying, call_put, expiry_datetime) -> str:\n",
    "        \n",
    "            \n",
    "    instrument_id = str(instruments_df[(instruments_df['name']==underlying)\n",
    "            &(instruments_df['instrument_type']==call_put)\n",
    "            &(instruments_df['expiry_datetime']==expiry_datetime)\n",
    "            &(instruments_df['strike']==strike)]['instrument_token'].iloc[0])\n",
    "    \n",
    "    if not isinstance(instrument_id,str):\n",
    "        instrument_id = str(instrument_id.iloc[0])\n",
    "\n",
    "    return instrument_id\n",
    "\n",
    "\n",
    "def get_multiple_fno_instrument_id (instruments_df, fno_df) -> pd.Series:\n",
    "        # fno_df should have underlying, call_put, expiry_datetime and strike column\n",
    "\n",
    "    instrument_id = fno_df.merge(instruments_df,how='left',\\\n",
    "            left_on=['underlying','call_put','expiry_datetime','strike'], \n",
    "            right_on=['name','instrument_type','expiry_datetime','strike'])\\\n",
    "            ['instrument_token'].astype(int)\n",
    "\n",
    "    return instrument_id\n",
    "\n",
    "def on_close(ws, code, reason):\n",
    "    print(\"closed connection on close: {} {}\".format(code, reason))\n",
    "\n",
    "\n",
    "def on_error(ws, code, reason):\n",
    "    print(\"closed connection on error: {} {}\".format(code, reason))\n",
    "\n",
    "\n",
    "def on_noreconnect(ws):\n",
    "    print(\"Reconnecting the websocket failed\")\n",
    "\n",
    "\n",
    "def on_reconnect(ws, attempt_count):\n",
    "    print(\"Reconnecting the websocket: {}\".format(attempt_count))\n",
    "\n",
    "\n",
    "def on_order_update(ws, data):\n",
    "    print(\"order update: \", data)\n",
    "\n",
    "\n",
    "def on_connect(ws,response):\n",
    "    global tokens\n",
    "    print(\"on connect: {}\".format(response))\n",
    "    # Callback on successful connect.\n",
    "    # Subscribe to a list of instrument_tokens (RELIANCE and ACC here).\n",
    "    #print(\"on connect: {}\".format(response))\n",
    "    ws.subscribe(tokens)\n",
    "    ws.set_mode(ws.MODE_FULL,tokens) # Set all token tick in `full` mode.\n",
    "    #ws.set_mode(ws.MODE_FULL,[tokens[0]])  # Set one token tick in `full` mode.\n",
    "\n",
    "counter = 0\n",
    "combined_df = pd.DataFrame()\n",
    "def on_ticks(ws,ticks):\n",
    "    # Callback to receive ticks.\n",
    "    # print(\"Ticks: {}\".format(ticks))\n",
    "    # print(ticks)\n",
    "    # populate_df.delay(ticks)\n",
    "    global counter\n",
    "    global combined_df\n",
    "    counter +=1\n",
    "    tick_df = pd.DataFrame(ticks)[['instrument_token',\\\n",
    "        'last_price','volume','buy_quantity',\\\n",
    "        'sell_quantity','oi','timestamp','depth']]\n",
    "    combined_df = combined_df.append(tick_df)\n",
    "    # if dt.now().second == 0:\n",
    "    #     combined_df.to_csv(\"tick_stream.csv\",sep=\"|\")\n",
    "    #     print(f\"saved,{counter}\",end='\\r')\n",
    "    # else:\n",
    "    print(f\"         {counter}\",end='\\r')\n",
    "\n",
    "def populate_df (ticks):\n",
    "    global counter\n",
    "    global combined_df\n",
    "    counter +=1\n",
    "    tick_df = pd.DataFrame(ticks)[['instrument_token',\\\n",
    "        'last_price','volume','buy_quantity',\\\n",
    "        'sell_quantity','oi','timestamp','depth']]\n",
    "    combined_df = combined_df.append(tick_df)\n",
    "    # if dt.now().second == 0:\n",
    "    #     combined_df.to_csv(\"tick_stream.csv\",sep=\"|\")\n",
    "    #     print(f\"saved,{counter}\",end='\\r')\n",
    "    # else:\n",
    "    print(f\"         {counter}\",end='\\r')\n",
    "\n",
    "\n",
    "kite, kws = set_kite(kite_api_key=\"5ytarhiur9g1jebq\",\n",
    "    kite_access_token=\"oAwZpfJqmnb33FKt5wEczWCZmSdaTMKs\")\n",
    "instruments_df = get_instruments_book(kite)\n",
    "\n",
    "next_expiry_datetime = instruments_df[\\\n",
    "                                    (instruments_df['name']=='NIFTY') \n",
    "                                    & (instruments_df['instrument_type'] == 'CE')]\\\n",
    "                                    ['expiry_datetime'].min()\n",
    "\n",
    "\n",
    "# names = ['NIFTY']\n",
    "names = ['NIFTY 50', 'INDIA VIX','NIFTY BANK', 'NIFTY','BANKNIFTY']\n",
    "# names = ['NIFTY 50', 'INDIA VIX','NIFTY BANK']\n",
    "\n",
    "tokens = list(instruments_df[(instruments_df['name']\\\n",
    "        .isin(names))&(instruments_df['expiry_datetime']==next_expiry_datetime)]\\\n",
    "            ['instrument_token'].astype(int))\n",
    "print(type(tokens))\n",
    "print(len(tokens))\n",
    "# strike = 18_000.0\n",
    "# underlying = 'NIFTY'\n",
    "# expiry_datetime=dt(2022,1,27,15,30)\n",
    "# fno_df = pd.DataFrame({'strike':[strike,strike,strike],\\\n",
    "#                         'underlying':[underlying,underlying,underlying],\n",
    "#                         'expiry_datetime':[expiry_datetime,expiry_datetime,expiry_datetime],\n",
    "#                         'call_put':['CE','PE','PE']})\n",
    "# fno_df['tokens'] = get_multiple_fno_instrument_id(\n",
    "#         instruments_df=instruments_df,\n",
    "#         fno_df=fno_df)\n",
    "# tokens = list(fno_df['tokens'])\n",
    "# print(tokens)\n"
   ]
  },
  {
   "cell_type": "code",
   "execution_count": 2,
   "metadata": {},
   "outputs": [
    {
     "name": "stdout",
     "output_type": "stream",
     "text": [
      "on connect: {\"peer\": \"tcp4:13.127.118.127:443\", \"headers\": {\"date\": \"Mon, 24 Jan 2022 09:29:33 GMT\", \"connection\": \"upgrade\", \"upgrade\": \"websocket\", \"sec-websocket-accept\": \"h6FNntMirrG/aXf+PLjdol4KHBI=\"}, \"version\": 18, \"protocol\": null, \"extensions\": []}\n",
      "         3133\r"
     ]
    },
    {
     "name": "stderr",
     "output_type": "stream",
     "text": [
      "Connection error: 1006 - connection was closed uncleanly (peer dropped the TCP connection without previous WebSocket closing handshake)\n",
      "Connection closed: 1006 - connection was closed uncleanly (peer dropped the TCP connection without previous WebSocket closing handshake)\n"
     ]
    },
    {
     "name": "stdout",
     "output_type": "stream",
     "text": [
      "closed connection on error: 1006 connection was closed uncleanly (peer dropped the TCP connection without previous WebSocket closing handshake)\n",
      "closed connection on close: 1006 connection was closed uncleanly (peer dropped the TCP connection without previous WebSocket closing handshake)\n"
     ]
    }
   ],
   "source": [
    "# Assign the callbacks.\n",
    "combined_df = pd.DataFrame()\n",
    "kws.on_ticks = on_ticks\n",
    "kws.on_connect = on_connect\n",
    "kws.on_close = on_close\n",
    "kws.on_error = on_error\n",
    "kws.on_noreconnect = on_noreconnect\n",
    "kws.on_reconnect = on_reconnect\n",
    "kws.on_order_update = on_order_update\n",
    "\n",
    "# kws.enable_reconnect(reconnect_interval=5, reconnect_tries=50)\n",
    "\n",
    "# Infinite loop on the main thread. Nothing after this will run.\n",
    "# You have to use the pre-defined callbacks to manage subscriptions.\n",
    "# kws.connect(disable_ssl_verification=True)\n",
    "kws.connect()"
   ]
  },
  {
   "cell_type": "code",
   "execution_count": 12,
   "metadata": {},
   "outputs": [
    {
     "data": {
      "text/plain": [
       "1    264969\n",
       "4    256265\n",
       "9    260105\n",
       "Name: instrument_token, dtype: int64"
      ]
     },
     "execution_count": 12,
     "metadata": {},
     "output_type": "execute_result"
    }
   ],
   "source": []
  },
  {
   "cell_type": "code",
   "execution_count": 19,
   "metadata": {},
   "outputs": [
    {
     "name": "stdout",
     "output_type": "stream",
     "text": [
      "<class 'list'>\n",
      "464\n"
     ]
    }
   ],
   "source": []
  },
  {
   "cell_type": "code",
   "execution_count": null,
   "metadata": {},
   "outputs": [],
   "source": [
    "\n"
   ]
  }
 ],
 "metadata": {
  "interpreter": {
   "hash": "417062eb5271b9532323f86b1ee82836bc5c8b41b6bc2609f63d2a1122b87f38"
  },
  "kernelspec": {
   "display_name": "Python 3.8.5 64-bit ('base': conda)",
   "language": "python",
   "name": "python3"
  },
  "language_info": {
   "codemirror_mode": {
    "name": "ipython",
    "version": 3
   },
   "file_extension": ".py",
   "mimetype": "text/x-python",
   "name": "python",
   "nbconvert_exporter": "python",
   "pygments_lexer": "ipython3",
   "version": "3.8.5"
  },
  "orig_nbformat": 4
 },
 "nbformat": 4,
 "nbformat_minor": 2
}
